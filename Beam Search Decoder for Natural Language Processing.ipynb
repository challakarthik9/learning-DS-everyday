{
 "cells": [
  {
   "cell_type": "code",
   "execution_count": 15,
   "metadata": {},
   "outputs": [],
   "source": [
    "from math import log\n",
    "from numpy import array\n",
    "from numpy import argmax\n",
    "data = [[0.1,0.2,0.3,0.4,0.5],\n",
    "       [0.5,0.4,0.3,0.2,0.1],\n",
    "       [0.1,0.2,0.3,0.4,0.5],\n",
    "       [0.5,0.4,0.3,0.2,0.1],\n",
    "       [0.1,0.2,0.3,0.4,0.5],\n",
    "       [0.5,0.4,0.3,0.2,0.1],\n",
    "       [0.1,0.2,0.3,0.4,0.5],\n",
    "       [0.5,0.4,0.3,0.2,0.1],\n",
    "       [0.1,0.2,0.3,0.4,0.5],\n",
    "       [0.5,0.4,0.3,0.2,0.1]]\n",
    "data = array(data)"
   ]
  },
  {
   "cell_type": "code",
   "execution_count": 16,
   "metadata": {},
   "outputs": [
    {
     "name": "stdout",
     "output_type": "stream",
     "text": [
      "[4, 0, 4, 0, 4, 0, 4, 0, 4, 0]\n"
     ]
    }
   ],
   "source": [
    "def greedy_decoder(data):\n",
    "    return [argmax(s) for s in data]\n",
    "result = greedy_decoder(data)\n",
    "print(result)"
   ]
  },
  {
   "cell_type": "code",
   "execution_count": 22,
   "metadata": {},
   "outputs": [
    {
     "name": "stdout",
     "output_type": "stream",
     "text": [
      "[[4], 2.3025850929940455]\n"
     ]
    }
   ],
   "source": [
    "#beam search decoder\n",
    "from math import log\n",
    "from numpy import array\n",
    "from numpy import argmax\n",
    "\n",
    "def beam_search_decoder(data, k):\n",
    "    sequences = [[list(), 0.0]]\n",
    "    for row in data:\n",
    "        all_candidates = list()\n",
    "    for i in range(len(sequences)):\n",
    "        seq, score = sequences[i]\n",
    "    for j in range(len(row)):\n",
    "        candidate = [seq + [j], score - log(row[j])]\n",
    "    all_candidates.append(candidate)\n",
    "    ordered = sorted(all_candidates, key = lambda tup:tup[1])\n",
    "    sequences = ordered[:k]\n",
    "    return sequences\n",
    "data = [[0.1,0.2,0.3,0.4,0.5],\n",
    "       [0.5,0.4,0.3,0.2,0.1],\n",
    "       [0.1,0.2,0.3,0.4,0.5],\n",
    "       [0.5,0.4,0.3,0.2,0.1],\n",
    "       [0.1,0.2,0.3,0.4,0.5],\n",
    "       [0.5,0.4,0.3,0.2,0.1],\n",
    "       [0.1,0.2,0.3,0.4,0.5],\n",
    "       [0.5,0.4,0.3,0.2,0.1],\n",
    "       [0.1,0.2,0.3,0.4,0.5],\n",
    "       [0.5,0.4,0.3,0.2,0.1]]\n",
    "data = array(data)\n",
    "result = beam_search_decoder(data,3)\n",
    "for seq in result:\n",
    "    print(seq)"
   ]
  },
  {
   "cell_type": "code",
   "execution_count": null,
   "metadata": {},
   "outputs": [],
   "source": []
  }
 ],
 "metadata": {
  "kernelspec": {
   "display_name": "Python 3",
   "language": "python",
   "name": "python3"
  },
  "language_info": {
   "codemirror_mode": {
    "name": "ipython",
    "version": 3
   },
   "file_extension": ".py",
   "mimetype": "text/x-python",
   "name": "python",
   "nbconvert_exporter": "python",
   "pygments_lexer": "ipython3",
   "version": "3.8.5"
  }
 },
 "nbformat": 4,
 "nbformat_minor": 4
}
